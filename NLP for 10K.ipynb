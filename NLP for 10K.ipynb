{
 "cells": [
  {
   "cell_type": "markdown",
   "id": "ddbc529d",
   "metadata": {},
   "source": [
    "### Loading packages"
   ]
  },
  {
   "cell_type": "code",
   "execution_count": 13,
   "id": "50d074dd",
   "metadata": {},
   "outputs": [],
   "source": [
    "import ast\n",
    "import csv\n",
    "import nltk\n",
    "import pprint\n",
    "import requests\n",
    "import numpy as np\n",
    "import pandas as pd\n",
    "from ratelimit import limits, sleep_and_retry"
   ]
  },
  {
   "cell_type": "code",
   "execution_count": 8,
   "id": "bba51b13",
   "metadata": {},
   "outputs": [
    {
     "name": "stderr",
     "output_type": "stream",
     "text": [
      "[nltk_data] Downloading package stopwords to\n",
      "[nltk_data]     C:\\Users\\Bhaskarjit\\AppData\\Roaming\\nltk_data...\n",
      "[nltk_data]   Package stopwords is already up-to-date!\n",
      "[nltk_data] Downloading package wordnet to\n",
      "[nltk_data]     C:\\Users\\Bhaskarjit\\AppData\\Roaming\\nltk_data...\n",
      "[nltk_data]   Package wordnet is already up-to-date!\n"
     ]
    },
    {
     "data": {
      "text/plain": [
       "True"
      ]
     },
     "execution_count": 8,
     "metadata": {},
     "output_type": "execute_result"
    }
   ],
   "source": [
    "nltk.download('stopwords')\n",
    "nltk.download('wordnet')"
   ]
  },
  {
   "cell_type": "markdown",
   "id": "d6a06432",
   "metadata": {},
   "source": [
    "### Getting 10K"
   ]
  },
  {
   "cell_type": "code",
   "execution_count": 3,
   "id": "3b58b78d",
   "metadata": {},
   "outputs": [],
   "source": [
    "cik_lookup = {'BLK': '0001364742'}"
   ]
  },
  {
   "cell_type": "code",
   "execution_count": 4,
   "id": "caba5acf",
   "metadata": {},
   "outputs": [],
   "source": [
    "class SecAPI(object):\n",
    "    SEC_CALL_LIMIT = {'calls': 10, 'seconds': 1}\n",
    "\n",
    "    @staticmethod\n",
    "    @sleep_and_retry\n",
    "    @limits(calls=SEC_CALL_LIMIT['calls'] / 2, period=SEC_CALL_LIMIT['seconds'])\n",
    "    def _call_sec(url):\n",
    "        return requests.get(url)\n",
    "\n",
    "    def get(self, url):\n",
    "        return self._call_sec(url).text"
   ]
  },
  {
   "cell_type": "code",
   "execution_count": 5,
   "id": "8010f781",
   "metadata": {},
   "outputs": [],
   "source": [
    "sec_api = SecAPI()"
   ]
  },
  {
   "cell_type": "code",
   "execution_count": 11,
   "id": "a664a4b7",
   "metadata": {},
   "outputs": [],
   "source": [
    "sec_data = {}\n",
    "\n",
    "with open('sec_data.csv', 'r') as f:\n",
    "    reader = csv.reader(f)\n",
    "    for row in reader:\n",
    "        ticker, rss_url = row\n",
    "        sec_data[ticker] = ast.literal_eval(rss_url)"
   ]
  },
  {
   "cell_type": "code",
   "execution_count": 16,
   "id": "a145fb4f",
   "metadata": {},
   "outputs": [
    {
     "name": "stdout",
     "output_type": "stream",
     "text": [
      "[('https://www.sec.gov/Archives/edgar/data/0001364742/000156459020007807/blk-10k_20191231.htm',\n",
      "  '10-K',\n",
      "  '2020-02-28'),\n",
      " ('https://www.sec.gov/Archives/edgar/data/0001364742/000156459021008796/blk-10k_20201231.htm',\n",
      "  '10-K',\n",
      "  '2020-02-25')]\n"
     ]
    }
   ],
   "source": [
    "pprint.pprint(sec_data['BLK'])"
   ]
  },
  {
   "cell_type": "code",
   "execution_count": null,
   "id": "554de149",
   "metadata": {},
   "outputs": [],
   "source": [
    "pd_fillings_by_ticker = {}\n",
    "colnames=['ticker', 'file_date', '10-k'] \n",
    "\n",
    "pd_fillings_by_ticker = pd.read_csv('raw_fillings_by_ticker.csv', \n",
    "                                     header=None, \n",
    "                                     names=colnames)"
   ]
  }
 ],
 "metadata": {
  "kernelspec": {
   "display_name": "Python 3",
   "language": "python",
   "name": "python3"
  },
  "language_info": {
   "codemirror_mode": {
    "name": "ipython",
    "version": 3
   },
   "file_extension": ".py",
   "mimetype": "text/x-python",
   "name": "python",
   "nbconvert_exporter": "python",
   "pygments_lexer": "ipython3",
   "version": "3.8.8"
  }
 },
 "nbformat": 4,
 "nbformat_minor": 5
}
